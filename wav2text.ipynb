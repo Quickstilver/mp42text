{
  "nbformat": 4,
  "nbformat_minor": 0,
  "metadata": {
    "colab": {
      "provenance": [],
      "machine_shape": "hm",
      "authorship_tag": "ABX9TyP4ympMCvh+1X9mAPkGIBIM"
    },
    "kernelspec": {
      "name": "python3",
      "display_name": "Python 3"
    },
    "language_info": {
      "name": "python"
    },
    "accelerator": "GPU",
    "gpuClass": "premium"
  },
  "cells": [
    {
      "cell_type": "code",
      "source": [
        "!apt install ffmpeg"
      ],
      "metadata": {
        "id": "77uhhHWZg0Ku"
      },
      "execution_count": null,
      "outputs": []
    },
    {
      "cell_type": "code",
      "source": [
        "%pip install -U openai-whisper\n",
        "%pip install transformers\n",
        "%pip install pydub"
      ],
      "metadata": {
        "id": "R9alt3vqZGho"
      },
      "execution_count": null,
      "outputs": []
    },
    {
      "cell_type": "code",
      "source": [
        "from google.colab import drive\n",
        "drive.mount('/content/drive')"
      ],
      "metadata": {
        "id": "bUsSC9puZfVG"
      },
      "execution_count": null,
      "outputs": []
    },
    {
      "cell_type": "code",
      "execution_count": null,
      "metadata": {
        "id": "6nh497EJYvUk"
      },
      "outputs": [],
      "source": [
        "import torch\n",
        "from moviepy.editor import *\n",
        "import whisper\n",
        "\n"
      ]
    },
    {
      "cell_type": "code",
      "source": [
        "# Load pre-trained model\n",
        "model = whisper.load_model(\"base\")\n",
        "\n",
        "# Move the model to the GPU if available\n",
        "device = torch.device(\"cuda\" if torch.cuda.is_available() else \"cpu\")\n",
        "model = model.to(device)\n"
      ],
      "metadata": {
        "id": "b2ob-yOcY6gm"
      },
      "execution_count": null,
      "outputs": []
    },
    {
      "cell_type": "code",
      "source": [
        "input_video = '/content/drive/MyDrive/Colab Notebooks/data/HOT WRAP 2023-20230419_145746-Registrazione della riunione.mp4'\n",
        "output_audio1 = 'output_audio1.wav'\n",
        "\n",
        "video = VideoFileClip(input_video)\n",
        "video.audio.write_audiofile(output_audio1)\n"
      ],
      "metadata": {
        "colab": {
          "base_uri": "https://localhost:8080/"
        },
        "id": "8MaiK7vPY8Wb",
        "outputId": "e0b36317-d1ba-4b93-e7fc-d57003a75e60"
      },
      "execution_count": null,
      "outputs": [
        {
          "output_type": "stream",
          "name": "stdout",
          "text": [
            "MoviePy - Writing audio in output_audio1.wav\n"
          ]
        },
        {
          "output_type": "stream",
          "name": "stderr",
          "text": [
            "                                                                        "
          ]
        },
        {
          "output_type": "stream",
          "name": "stdout",
          "text": [
            "MoviePy - Done.\n"
          ]
        },
        {
          "output_type": "stream",
          "name": "stderr",
          "text": [
            "\r"
          ]
        }
      ]
    },
    {
      "cell_type": "code",
      "source": [
        "result = model.transcribe(output_audio1)\n",
        "with open('/content/drive/MyDrive/Colab Notebooks/data/transcription.txt', 'w') as f:\n",
        "    f.write(result[\"text\"])"
      ],
      "metadata": {
        "id": "JnuKTQ2Bm6kH"
      },
      "execution_count": null,
      "outputs": []
    }
  ]
}